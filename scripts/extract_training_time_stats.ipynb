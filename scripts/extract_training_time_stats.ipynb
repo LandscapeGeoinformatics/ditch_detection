{
 "cells": [
  {
   "cell_type": "code",
   "execution_count": 1,
   "id": "6f0f6948-3145-4642-90d0-bbca2fa5bb03",
   "metadata": {
    "tags": []
   },
   "outputs": [],
   "source": [
    "import os\n",
    "\n",
    "import pandas as pd"
   ]
  },
  {
   "cell_type": "code",
   "execution_count": 2,
   "id": "b8cbc8ea-af54-4a88-84f9-b3af08929ba4",
   "metadata": {
    "tags": []
   },
   "outputs": [],
   "source": [
    "working_dir = r'\\\\export.hpc.ut.ee\\gis\\Ditches\\working\\paper_materials'\n",
    "os.chdir(working_dir)"
   ]
  },
  {
   "cell_type": "code",
   "execution_count": 3,
   "id": "1052347b-893a-47db-a847-211f092883e8",
   "metadata": {
    "tags": []
   },
   "outputs": [],
   "source": [
    "train_augmentations = ['unaug', 'aug']\n",
    "kernel_sizes = [3, 5, 7]"
   ]
  },
  {
   "cell_type": "code",
   "execution_count": 4,
   "id": "0a29b29a-02c1-4c42-856b-73edfad91555",
   "metadata": {
    "tags": []
   },
   "outputs": [],
   "source": [
    "def format_time(time_string):\n",
    "    parts = time_string.split(':')\n",
    "    return f'{parts[0]}h {parts[1]}m {parts[2]}s'"
   ]
  },
  {
   "cell_type": "markdown",
   "id": "29cdda25-3274-470e-9cda-357e67e47d1a",
   "metadata": {},
   "source": [
    "# Pretraining results"
   ]
  },
  {
   "cell_type": "code",
   "execution_count": 5,
   "id": "189b08f8-932e-424c-889e-37bb2c437a57",
   "metadata": {
    "tags": []
   },
   "outputs": [
    {
     "data": {
      "text/html": [
       "<div>\n",
       "<style scoped>\n",
       "    .dataframe tbody tr th:only-of-type {\n",
       "        vertical-align: middle;\n",
       "    }\n",
       "\n",
       "    .dataframe tbody tr th {\n",
       "        vertical-align: top;\n",
       "    }\n",
       "\n",
       "    .dataframe thead th {\n",
       "        text-align: right;\n",
       "    }\n",
       "</style>\n",
       "<table border=\"1\" class=\"dataframe\">\n",
       "  <thead>\n",
       "    <tr style=\"text-align: right;\">\n",
       "      <th></th>\n",
       "      <th>Pre-trained model</th>\n",
       "      <th>Total training time</th>\n",
       "    </tr>\n",
       "  </thead>\n",
       "  <tbody>\n",
       "    <tr>\n",
       "      <th>0</th>\n",
       "      <td>PT3U</td>\n",
       "      <td>3h 39m 48s</td>\n",
       "    </tr>\n",
       "    <tr>\n",
       "      <th>1</th>\n",
       "      <td>PT5U</td>\n",
       "      <td>10h 14m 46s</td>\n",
       "    </tr>\n",
       "    <tr>\n",
       "      <th>2</th>\n",
       "      <td>PT7U</td>\n",
       "      <td>19h 11m 0s</td>\n",
       "    </tr>\n",
       "    <tr>\n",
       "      <th>3</th>\n",
       "      <td>PT3A</td>\n",
       "      <td>20h 10m 53s</td>\n",
       "    </tr>\n",
       "    <tr>\n",
       "      <th>4</th>\n",
       "      <td>PT5A</td>\n",
       "      <td>44h 58m 56s</td>\n",
       "    </tr>\n",
       "    <tr>\n",
       "      <th>5</th>\n",
       "      <td>PT7A</td>\n",
       "      <td>89h 55m 30s</td>\n",
       "    </tr>\n",
       "  </tbody>\n",
       "</table>\n",
       "</div>"
      ],
      "text/plain": [
       "  Pre-trained model Total training time\n",
       "0              PT3U          3h 39m 48s\n",
       "1              PT5U         10h 14m 46s\n",
       "2              PT7U          19h 11m 0s\n",
       "3              PT3A         20h 10m 53s\n",
       "4              PT5A         44h 58m 56s\n",
       "5              PT7A         89h 55m 30s"
      ]
     },
     "metadata": {},
     "output_type": "display_data"
    }
   ],
   "source": [
    "df_list = []\n",
    "for i in range(len(train_augmentations)):\n",
    "    aug = train_augmentations[i]\n",
    "    for j in range(len(kernel_sizes)):\n",
    "        ks = kernel_sizes[j]\n",
    "        experiment = f'train_{aug}_sweden_test_unaug_sweden_relu_ks{ks}x{ks}_lr0.0001_250ep_bs4'\n",
    "        experiment_dir = fr'\\\\export.hpc.ut.ee\\gis\\Ditches\\working\\pytorch_unet\\experiments\\{experiment}'\n",
    "        model_name = f'PT{ks}{aug[0].upper()}'\n",
    "        df = pd.read_csv(f'{experiment_dir}/best_results.csv')\n",
    "        df['Total training time'] = df['total_time'].apply(format_time)\n",
    "        df = df[['Total training time']]\n",
    "        df.insert(0, 'Pre-trained model', model_name)\n",
    "        df_list.append(df)\n",
    "out_df = pd.concat(df_list).reset_index(drop=True)\n",
    "display(out_df)\n",
    "out_df.to_csv(f'./pretraining_time.csv', index=False)"
   ]
  },
  {
   "cell_type": "markdown",
   "id": "a381fdf2-b65d-4b6c-b56d-dc89455f5dbb",
   "metadata": {},
   "source": [
    "# Finetuning results"
   ]
  },
  {
   "cell_type": "code",
   "execution_count": 6,
   "id": "567f17e8-c575-4e7c-992c-5eb66bcbbb25",
   "metadata": {
    "tags": []
   },
   "outputs": [
    {
     "data": {
      "text/html": [
       "<div>\n",
       "<style scoped>\n",
       "    .dataframe tbody tr th:only-of-type {\n",
       "        vertical-align: middle;\n",
       "    }\n",
       "\n",
       "    .dataframe tbody tr th {\n",
       "        vertical-align: top;\n",
       "    }\n",
       "\n",
       "    .dataframe thead th {\n",
       "        text-align: right;\n",
       "    }\n",
       "</style>\n",
       "<table border=\"1\" class=\"dataframe\">\n",
       "  <thead>\n",
       "    <tr style=\"text-align: right;\">\n",
       "      <th></th>\n",
       "      <th>Fine-tuned model</th>\n",
       "      <th>Total training time</th>\n",
       "    </tr>\n",
       "  </thead>\n",
       "  <tbody>\n",
       "    <tr>\n",
       "      <th>0</th>\n",
       "      <td>FT3U</td>\n",
       "      <td>2h 5m 24s</td>\n",
       "    </tr>\n",
       "    <tr>\n",
       "      <th>1</th>\n",
       "      <td>FT5U</td>\n",
       "      <td>5h 12m 50s</td>\n",
       "    </tr>\n",
       "    <tr>\n",
       "      <th>2</th>\n",
       "      <td>FT7U</td>\n",
       "      <td>11h 30m 37s</td>\n",
       "    </tr>\n",
       "    <tr>\n",
       "      <th>3</th>\n",
       "      <td>FT3A</td>\n",
       "      <td>1h 6m 7s</td>\n",
       "    </tr>\n",
       "    <tr>\n",
       "      <th>4</th>\n",
       "      <td>FT5A</td>\n",
       "      <td>2h 23m 33s</td>\n",
       "    </tr>\n",
       "    <tr>\n",
       "      <th>5</th>\n",
       "      <td>FT7A</td>\n",
       "      <td>4h 49m 47s</td>\n",
       "    </tr>\n",
       "  </tbody>\n",
       "</table>\n",
       "</div>"
      ],
      "text/plain": [
       "  Fine-tuned model Total training time\n",
       "0             FT3U           2h 5m 24s\n",
       "1             FT5U          5h 12m 50s\n",
       "2             FT7U         11h 30m 37s\n",
       "3             FT3A            1h 6m 7s\n",
       "4             FT5A          2h 23m 33s\n",
       "5             FT7A          4h 49m 47s"
      ]
     },
     "metadata": {},
     "output_type": "display_data"
    }
   ],
   "source": [
    "df_list = []\n",
    "for i in range(len(train_augmentations)):\n",
    "    aug = train_augmentations[i]\n",
    "    for j in range(len(kernel_sizes)):\n",
    "        ks = kernel_sizes[j]\n",
    "        experiment = f'finetuned_aug_estonia_relu_ks{ks}x{ks}_lr0.0001_250ep_bs4_from_train_{aug}_sweden_test_unaug_sweden'\n",
    "        experiment_dir = fr'\\\\export.hpc.ut.ee\\gis\\Ditches\\working\\pytorch_unet\\experiments\\{experiment}'\n",
    "        model_name = f'FT{ks}{aug[0].upper()}'\n",
    "        df = pd.read_csv(f'{experiment_dir}/best_results.csv')\n",
    "        df['Total training time'] = df['total_time'].apply(format_time)\n",
    "        df = df[['Total training time']]\n",
    "        df.insert(0, 'Fine-tuned model', model_name)\n",
    "        df_list.append(df)\n",
    "out_df = pd.concat(df_list).reset_index(drop=True)\n",
    "display(out_df)\n",
    "out_df.to_csv(f'./finetuning_time.csv', index=False)"
   ]
  }
 ],
 "metadata": {
  "kernelspec": {
   "display_name": "Python 3 (ipykernel)",
   "language": "python",
   "name": "python3"
  },
  "language_info": {
   "codemirror_mode": {
    "name": "ipython",
    "version": 3
   },
   "file_extension": ".py",
   "mimetype": "text/x-python",
   "name": "python",
   "nbconvert_exporter": "python",
   "pygments_lexer": "ipython3",
   "version": "3.10.14"
  }
 },
 "nbformat": 4,
 "nbformat_minor": 5
}
