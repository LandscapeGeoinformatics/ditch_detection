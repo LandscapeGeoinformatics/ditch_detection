{
 "cells": [
  {
   "cell_type": "code",
   "execution_count": 1,
   "id": "4da0033b-1879-4142-8815-c9324c42617a",
   "metadata": {
    "tags": []
   },
   "outputs": [],
   "source": [
    "import glob\n",
    "import os\n",
    "import random\n",
    "import shutil"
   ]
  },
  {
   "cell_type": "code",
   "execution_count": 2,
   "id": "b1dcbf34-0287-4cad-b62a-5eaca1b2c49b",
   "metadata": {
    "tags": []
   },
   "outputs": [],
   "source": [
    "basepath = \"D:/users/holgerv/Ditches\""
   ]
  },
  {
   "cell_type": "code",
   "execution_count": 3,
   "id": "2dc6275e-f31c-4159-941d-26bda34f2845",
   "metadata": {},
   "outputs": [],
   "source": [
    "# Pretraining data directory\n",
    "pretraining_dir = f\"{basepath}/working/deep_learning/data/pretraining\""
   ]
  },
  {
   "cell_type": "code",
   "execution_count": 4,
   "id": "ded34c00-82c7-49e6-9f58-ba101ee4477d",
   "metadata": {},
   "outputs": [],
   "source": [
    "# Input HPMF files\n",
    "fp_hpmf_list = sorted(glob.glob(f\"{basepath}/working/deep_learning/data/OnlyDitches/*/hpmf/*.tif\"))\n",
    "hpmf_files = [os.path.basename(fp_hpmf) for fp_hpmf in fp_hpmf_list]\n",
    "\n",
    "# Input labels\n",
    "fp_labels_list = sorted(glob.glob(f\"{basepath}/working/deep_learning/data/OnlyDitches/*/labels/*.tif\"))\n",
    "labels_files = [os.path.basename(fp_labels) for fp_labels in fp_labels_list]\n",
    "\n",
    "# Loop over labels and collect matching image pairs\n",
    "image_pairs = {}\n",
    "for i in range(len(labels_files)):\n",
    "    labels_file = labels_files[i]\n",
    "    if labels_file in hpmf_files:\n",
    "        fp_hpmf = glob.glob(f\"{basepath}/working/deep_learning/data/OnlyDitches/*/hpmf/{labels_file}\")[0]\n",
    "        fp_labels = glob.glob(f\"{basepath}/working/deep_learning/data/OnlyDitches/*/labels/{labels_file}\")[0]\n",
    "        image_pairs[fp_hpmf] = fp_labels"
   ]
  },
  {
   "cell_type": "code",
   "execution_count": 5,
   "id": "a216dc6d-c9a2-4689-b0f8-7457794a3353",
   "metadata": {},
   "outputs": [],
   "source": [
    "pct_train = 0.8\n",
    "pct_test = 1 - pct_train\n",
    "n_samples = len(image_pairs)\n",
    "n_train = round(n_samples * pct_train)\n",
    "n_test = n_samples - n_train"
   ]
  },
  {
   "cell_type": "code",
   "execution_count": 6,
   "id": "e4210b94-259c-4c5c-87a9-e744090086a4",
   "metadata": {},
   "outputs": [
    {
     "data": {
      "text/plain": [
       "(1088, 272)"
      ]
     },
     "execution_count": 6,
     "metadata": {},
     "output_type": "execute_result"
    }
   ],
   "source": [
    "n_train, n_test"
   ]
  },
  {
   "cell_type": "code",
   "execution_count": 7,
   "id": "be23e65f-4a9b-4fb0-ab5a-70e4fb1f634c",
   "metadata": {},
   "outputs": [],
   "source": [
    "# Split HPMF files into training and test samples\n",
    "random.seed(0)\n",
    "fp_hpmf_list_train = random.sample(list(image_pairs.keys()), n_train)\n",
    "fp_hpmf_list_test = [file for file in list(image_pairs.keys()) if file not in fp_hpmf_list_train]"
   ]
  },
  {
   "cell_type": "code",
   "execution_count": 8,
   "id": "6f24e577-c3b1-487c-92c0-267ed232f5e9",
   "metadata": {},
   "outputs": [
    {
     "data": {
      "text/plain": [
       "(1088, 272)"
      ]
     },
     "execution_count": 8,
     "metadata": {},
     "output_type": "execute_result"
    }
   ],
   "source": [
    "len(fp_hpmf_list_train), len(fp_hpmf_list_test)"
   ]
  },
  {
   "cell_type": "markdown",
   "id": "c5f350b8-f5ce-428a-918e-cfab81c40572",
   "metadata": {},
   "source": [
    "# Generate training data directory"
   ]
  },
  {
   "cell_type": "code",
   "execution_count": 9,
   "id": "2c89a7da-bc0c-4f37-8130-158259976175",
   "metadata": {},
   "outputs": [],
   "source": [
    "# Output directories\n",
    "out_dir = f\"{pretraining_dir}/training\"\n",
    "if os.path.exists(out_dir):\n",
    "    shutil.rmtree(out_dir)\n",
    "os.mkdir(out_dir)\n",
    "out_dir_hpmf = f\"{out_dir}/hpmf\"\n",
    "os.mkdir(out_dir_hpmf)\n",
    "out_dir_labels = f\"{out_dir}/labels\"\n",
    "os.mkdir(out_dir_labels)"
   ]
  },
  {
   "cell_type": "code",
   "execution_count": 10,
   "id": "06712bc4-4c3d-4ba9-b419-deef421ca236",
   "metadata": {},
   "outputs": [
    {
     "name": "stdout",
     "output_type": "stream",
     "text": [
      "CPU times: total: 2.12 s\n",
      "Wall time: 10.7 s\n"
     ]
    }
   ],
   "source": [
    "%%time\n",
    "\n",
    "# Copy image pairs to corresponding directories\n",
    "for fp_hpmf in fp_hpmf_list_train:\n",
    "    fp_labels = image_pairs[fp_hpmf]\n",
    "    shutil.copy(fp_hpmf, out_dir_hpmf)\n",
    "    shutil.copy(fp_labels, out_dir_labels)"
   ]
  },
  {
   "cell_type": "code",
   "execution_count": 11,
   "id": "056789b7-9ad1-4c64-b19c-c0c0b45b5aae",
   "metadata": {},
   "outputs": [
    {
     "data": {
      "text/plain": [
       "True"
      ]
     },
     "execution_count": 11,
     "metadata": {},
     "output_type": "execute_result"
    }
   ],
   "source": [
    "len(os.listdir(out_dir_hpmf)) == n_train"
   ]
  },
  {
   "cell_type": "code",
   "execution_count": 12,
   "id": "b4338477-9c57-4c4b-850e-7fc36cbe9682",
   "metadata": {},
   "outputs": [
    {
     "data": {
      "text/plain": [
       "True"
      ]
     },
     "execution_count": 12,
     "metadata": {},
     "output_type": "execute_result"
    }
   ],
   "source": [
    "len(os.listdir(out_dir_labels)) == n_train"
   ]
  },
  {
   "cell_type": "markdown",
   "id": "0e665db5-3bea-4787-9497-ab6c89943f59",
   "metadata": {},
   "source": [
    "# Generate test data directory"
   ]
  },
  {
   "cell_type": "code",
   "execution_count": 13,
   "id": "1ef36649-9d3c-4874-a577-b95aa2286f7d",
   "metadata": {},
   "outputs": [],
   "source": [
    "# Output directories\n",
    "out_dir = f\"{pretraining_dir}/testing\"\n",
    "if os.path.exists(out_dir):\n",
    "    shutil.rmtree(out_dir)\n",
    "os.mkdir(out_dir)\n",
    "out_dir_hpmf = f\"{out_dir}/hpmf\"\n",
    "os.mkdir(out_dir_hpmf)\n",
    "out_dir_labels = f\"{out_dir}/labels\"\n",
    "os.mkdir(out_dir_labels)"
   ]
  },
  {
   "cell_type": "code",
   "execution_count": 14,
   "id": "32f4ce83-f99b-4633-b933-fc7b1f5125d7",
   "metadata": {},
   "outputs": [
    {
     "name": "stdout",
     "output_type": "stream",
     "text": [
      "CPU times: total: 547 ms\n",
      "Wall time: 3.55 s\n"
     ]
    }
   ],
   "source": [
    "%%time\n",
    "\n",
    "# Copy image pairs to corresponding directories\n",
    "for fp_hpmf in fp_hpmf_list_test:\n",
    "    fp_labels = image_pairs[fp_hpmf]\n",
    "    shutil.copy(fp_hpmf, out_dir_hpmf)\n",
    "    shutil.copy(fp_labels, out_dir_labels)"
   ]
  },
  {
   "cell_type": "code",
   "execution_count": 15,
   "id": "9d6448a6-f49c-4808-958d-5f7ba7a54a4b",
   "metadata": {},
   "outputs": [
    {
     "data": {
      "text/plain": [
       "True"
      ]
     },
     "execution_count": 15,
     "metadata": {},
     "output_type": "execute_result"
    }
   ],
   "source": [
    "len(os.listdir(out_dir_hpmf)) == n_test"
   ]
  },
  {
   "cell_type": "code",
   "execution_count": 16,
   "id": "c2c6fcaa-bf2f-4f2d-98bb-ec6e16997037",
   "metadata": {},
   "outputs": [
    {
     "data": {
      "text/plain": [
       "True"
      ]
     },
     "execution_count": 16,
     "metadata": {},
     "output_type": "execute_result"
    }
   ],
   "source": [
    "len(os.listdir(out_dir_labels)) == n_test"
   ]
  }
 ],
 "metadata": {
  "kernelspec": {
   "display_name": "ditches",
   "language": "python",
   "name": "ditches"
  },
  "language_info": {
   "codemirror_mode": {
    "name": "ipython",
    "version": 3
   },
   "file_extension": ".py",
   "mimetype": "text/x-python",
   "name": "python",
   "nbconvert_exporter": "python",
   "pygments_lexer": "ipython3",
   "version": "3.12.3"
  }
 },
 "nbformat": 4,
 "nbformat_minor": 5
}
