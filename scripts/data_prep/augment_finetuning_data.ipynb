{
 "cells": [
  {
   "cell_type": "code",
   "execution_count": 1,
   "id": "4da0033b-1879-4142-8815-c9324c42617a",
   "metadata": {
    "tags": []
   },
   "outputs": [],
   "source": [
    "import glob\n",
    "import os\n",
    "import shutil\n",
    "\n",
    "import rasterio\n",
    "import torch\n",
    "from torchvision.transforms import RandomRotation, RandomHorizontalFlip\n",
    "from tqdm import tqdm"
   ]
  },
  {
   "cell_type": "code",
   "execution_count": 2,
   "id": "b1dcbf34-0287-4cad-b62a-5eaca1b2c49b",
   "metadata": {
    "tags": []
   },
   "outputs": [],
   "source": [
    "basepath = \"D:/users/holgerv/Ditches\""
   ]
  },
  {
   "cell_type": "code",
   "execution_count": 3,
   "id": "2dc6275e-f31c-4159-941d-26bda34f2845",
   "metadata": {},
   "outputs": [],
   "source": [
    "# Finetuning data directory\n",
    "finetuning_dir = f\"{basepath}/working/deep_learning/data/finetuning\""
   ]
  },
  {
   "cell_type": "code",
   "execution_count": 4,
   "id": "ded34c00-82c7-49e6-9f58-ba101ee4477d",
   "metadata": {},
   "outputs": [],
   "source": [
    "# Input HPMF files\n",
    "fp_hpmf_list = [fp.replace(\"\\\\\", \"/\") for fp in sorted(glob.glob(f\"{finetuning_dir}/training/hpmf/*.tif\"))]\n",
    "hpmf_files = [os.path.basename(fp_hpmf) for fp_hpmf in fp_hpmf_list]\n",
    "\n",
    "# Input labels\n",
    "fp_labels_list = [fp.replace(\"\\\\\", \"/\") for fp in sorted(glob.glob(f\"{finetuning_dir}/training/labels/*.tif\"))]\n",
    "labels_files = [os.path.basename(fp_labels) for fp_labels in fp_labels_list]\n",
    "\n",
    "# Loop over labels and collect matching image pairs\n",
    "image_pairs = {}\n",
    "for i in range(len(labels_files)):\n",
    "    labels_file = labels_files[i]\n",
    "    if labels_file in hpmf_files:\n",
    "        fp_hpmf = f\"{finetuning_dir}/training/hpmf/{labels_file}\"\n",
    "        fp_labels = f\"{finetuning_dir}/training/labels/{labels_file}\"\n",
    "        image_pairs[fp_hpmf] = fp_labels"
   ]
  },
  {
   "cell_type": "code",
   "execution_count": 5,
   "id": "2c89a7da-bc0c-4f37-8130-158259976175",
   "metadata": {},
   "outputs": [],
   "source": [
    "# Output directories\n",
    "out_dir = f\"{finetuning_dir}/training_augmented\"\n",
    "if os.path.exists(out_dir):\n",
    "    shutil.rmtree(out_dir)\n",
    "os.mkdir(out_dir)\n",
    "out_dir_hpmf = f\"{out_dir}/hpmf\"\n",
    "os.mkdir(out_dir_hpmf)\n",
    "out_dir_labels = f\"{out_dir}/labels\"\n",
    "os.mkdir(out_dir_labels)"
   ]
  },
  {
   "cell_type": "code",
   "execution_count": 6,
   "id": "0fdc6717-41f6-40b1-b49d-4b326647fbf4",
   "metadata": {},
   "outputs": [],
   "source": [
    "# Generate augmented data from input image\n",
    "def generate_augmented_data(fp: str, out_dir: str):\n",
    "    \n",
    "    with rasterio.open(fp) as src:\n",
    "        \n",
    "        # Read image\n",
    "        img = src.read()\n",
    "        \n",
    "        # Convert to tensor\n",
    "        img = torch.from_numpy(img)\n",
    "        \n",
    "        # Get profile\n",
    "        out_profile = src.profile\n",
    "        \n",
    "        # Rotate image in 90 degree intervals and save the result\n",
    "        degrees = [90, 180, 270]\n",
    "        for degree in degrees:\n",
    "            transform = RandomRotation(degrees=(degree, degree))\n",
    "            img_rotated = transform(img)\n",
    "            out_fp = f\"{out_dir}/{os.path.basename(fp).split('.')[0]}_rot{degree}.tif\"\n",
    "            with rasterio.open(out_fp, \"w\", **out_profile) as dst:\n",
    "                dst.write(img_rotated.squeeze(0).numpy(), 1)\n",
    "            \n",
    "        # Flip image horizontally and save the result\n",
    "        transform = RandomHorizontalFlip(p=1)\n",
    "        img_flipped = transform(img)\n",
    "        out_fp = f\"{out_dir}/{os.path.basename(fp).split('.')[0]}_flip.tif\"\n",
    "        with rasterio.open(out_fp, \"w\", **out_profile) as dst:\n",
    "            dst.write(img_flipped.squeeze(0).numpy(), 1)\n",
    "    \n",
    "    return"
   ]
  },
  {
   "cell_type": "code",
   "execution_count": 7,
   "id": "06712bc4-4c3d-4ba9-b419-deef421ca236",
   "metadata": {},
   "outputs": [
    {
     "name": "stderr",
     "output_type": "stream",
     "text": [
      "100%|███████████████████████████████████████████████████████████████████████████████████████████████████████████████████████████████████████████████████████████████████████████████████████████████████████| 58/58 [00:12<00:00,  4.55it/s]"
     ]
    },
    {
     "name": "stdout",
     "output_type": "stream",
     "text": [
      "CPU times: total: 1min 37s\n",
      "Wall time: 12.7 s\n"
     ]
    },
    {
     "name": "stderr",
     "output_type": "stream",
     "text": [
      "\n"
     ]
    }
   ],
   "source": [
    "%%time\n",
    "\n",
    "for fp_hpmf in tqdm(fp_hpmf_list, position=0, leave=True):\n",
    "    \n",
    "    # Get corresponding labels\n",
    "    fp_labels = image_pairs[fp_hpmf]\n",
    "    \n",
    "    # Copy HPMF to new directory\n",
    "    shutil.copy(fp_hpmf, out_dir_hpmf)\n",
    "    \n",
    "    # Generate augmented data for HPMF\n",
    "    generate_augmented_data(fp_hpmf, out_dir_hpmf)\n",
    "    \n",
    "    # Copy labels to new directory\n",
    "    shutil.copy(fp_labels, out_dir_labels)\n",
    "    \n",
    "    # Generate augmented data for HPMF\n",
    "    generate_augmented_data(fp_labels, out_dir_labels)"
   ]
  }
 ],
 "metadata": {
  "kernelspec": {
   "display_name": "ditches",
   "language": "python",
   "name": "ditches"
  },
  "language_info": {
   "codemirror_mode": {
    "name": "ipython",
    "version": 3
   },
   "file_extension": ".py",
   "mimetype": "text/x-python",
   "name": "python",
   "nbconvert_exporter": "python",
   "pygments_lexer": "ipython3",
   "version": "3.12.3"
  }
 },
 "nbformat": 4,
 "nbformat_minor": 5
}
