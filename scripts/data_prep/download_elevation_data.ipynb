{
 "cells": [
  {
   "cell_type": "code",
   "execution_count": 1,
   "id": "8676b8dc-3a91-4267-b956-4a295de7ca27",
   "metadata": {
    "tags": []
   },
   "outputs": [],
   "source": [
    "import glob\n",
    "import os\n",
    "import datetime\n",
    "import shutil\n",
    "\n",
    "import numpy as np\n",
    "from tqdm import tqdm\n",
    "import urllib.request"
   ]
  },
  {
   "cell_type": "code",
   "execution_count": 2,
   "id": "662811cd-97ba-4562-acfd-16176ea7598b",
   "metadata": {
    "tags": []
   },
   "outputs": [],
   "source": [
    "basepath = \"D:/users/holgerv/Ditches\""
   ]
  },
  {
   "cell_type": "code",
   "execution_count": 3,
   "id": "1e643de0-4abc-445d-9cec-b16a8f8ea156",
   "metadata": {},
   "outputs": [],
   "source": [
    "# List of old DEM files\n",
    "files = glob.glob(f\"{basepath}/original/DEM/dem_1m/*.tif\")"
   ]
  },
  {
   "cell_type": "code",
   "execution_count": 4,
   "id": "2204e632-6dbb-41d0-ba0c-02ada8e06a66",
   "metadata": {
    "tags": []
   },
   "outputs": [
    {
     "data": {
      "text/plain": [
       "2074"
      ]
     },
     "execution_count": 4,
     "metadata": {},
     "output_type": "execute_result"
    }
   ],
   "source": [
    "len(files)"
   ]
  },
  {
   "cell_type": "code",
   "execution_count": 5,
   "id": "486bfbbc-ff13-4d1f-8e9b-1358ae03e769",
   "metadata": {
    "tags": []
   },
   "outputs": [],
   "source": [
    "# Get list of map sheets\n",
    "map_sheets = [int(os.path.basename(file).split(\".\")[0].split(\"_\")[0]) for file in files]"
   ]
  },
  {
   "cell_type": "code",
   "execution_count": 6,
   "id": "2c75cd25-bac5-4248-9ec7-9fbe844ad644",
   "metadata": {
    "tags": []
   },
   "outputs": [
    {
     "data": {
      "text/plain": [
       "2074"
      ]
     },
     "execution_count": 6,
     "metadata": {},
     "output_type": "execute_result"
    }
   ],
   "source": [
    "len(map_sheets)"
   ]
  },
  {
   "cell_type": "code",
   "execution_count": 7,
   "id": "d1ec4b9d-5a48-4855-be11-a004bc01ebde",
   "metadata": {
    "tags": []
   },
   "outputs": [
    {
     "data": {
      "text/plain": [
       "2074"
      ]
     },
     "execution_count": 7,
     "metadata": {},
     "output_type": "execute_result"
    }
   ],
   "source": [
    "len(np.unique(map_sheets))"
   ]
  },
  {
   "cell_type": "code",
   "execution_count": 8,
   "id": "bacaf8fc-0a2e-465c-af1a-fd34288b196b",
   "metadata": {},
   "outputs": [],
   "source": [
    "# Output directory\n",
    "download_date = datetime.datetime.now().strftime(\"%Y%m%d\")\n",
    "out_dirpath = f\"{basepath}/original/DEM/dem_1m_{download_date}\"\n",
    "if os.path.exists(out_dirpath):\n",
    "    shutil.rmtree(out_dirpath)\n",
    "os.mkdir(out_dirpath)"
   ]
  },
  {
   "cell_type": "code",
   "execution_count": 9,
   "id": "b1a98fce-7d2d-4736-ba34-71bd597f597e",
   "metadata": {},
   "outputs": [
    {
     "data": {
      "text/plain": [
       "'D:/users/holgerv/Ditches/original/DEM/dem_1m_20231214'"
      ]
     },
     "execution_count": 9,
     "metadata": {},
     "output_type": "execute_result"
    }
   ],
   "source": [
    "out_dirpath"
   ]
  },
  {
   "cell_type": "code",
   "execution_count": 10,
   "id": "a276ff09-bd17-4ee8-a266-ba19687c3611",
   "metadata": {
    "tags": []
   },
   "outputs": [
    {
     "name": "stderr",
     "output_type": "stream",
     "text": [
      "100%|█████████████████████████████████████████████████████████████████████████████████████████████████████████████████████████████████████████████████████████████████████████████████████████████████| 2074/2074 [1:06:17<00:00,  1.92s/it]"
     ]
    },
    {
     "name": "stdout",
     "output_type": "stream",
     "text": [
      "CPU times: total: 7min 51s\n",
      "Wall time: 1h 6min 17s\n"
     ]
    },
    {
     "name": "stderr",
     "output_type": "stream",
     "text": [
      "\n"
     ]
    }
   ],
   "source": [
    "%%time\n",
    "\n",
    "# Loop over map sheets and download files\n",
    "for map_sheet in tqdm(map_sheets, total=len(map_sheets), position=0, leave=True):\n",
    "    url = f\"https://geoportaal.maaamet.ee/index.php?lang_id=1&plugin_act=otsing&kaardiruut={map_sheet}&andmetyyp=dem_1m_geotiff&\"\\\n",
    "    f\"dl=1&f={map_sheet}_DTM_1m.tif&no_cache=656c98fd84f87&page_id=614\"\n",
    "    out_fp = f\"{out_dirpath}/{map_sheet}_dem_1m.tif\"\n",
    "    urllib.request.urlretrieve(url, out_fp)"
   ]
  }
 ],
 "metadata": {
  "kernelspec": {
   "display_name": "tf",
   "language": "python",
   "name": "tf"
  },
  "language_info": {
   "codemirror_mode": {
    "name": "ipython",
    "version": 3
   },
   "file_extension": ".py",
   "mimetype": "text/x-python",
   "name": "python",
   "nbconvert_exporter": "python",
   "pygments_lexer": "ipython3",
   "version": "3.9.18"
  }
 },
 "nbformat": 4,
 "nbformat_minor": 5
}
