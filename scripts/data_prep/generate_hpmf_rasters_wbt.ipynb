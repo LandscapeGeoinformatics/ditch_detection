{
 "cells": [
  {
   "cell_type": "code",
   "execution_count": 1,
   "id": "183a6518-4481-435e-a5ef-58d32b2e3620",
   "metadata": {},
   "outputs": [],
   "source": [
    "import sys\n",
    "import glob\n",
    "import os\n",
    "import shutil\n",
    "\n",
    "from tqdm import tqdm\n",
    "from osgeo import gdal"
   ]
  },
  {
   "cell_type": "code",
   "execution_count": 2,
   "id": "24b257be-e6a5-40dd-9e50-5c3377c09d93",
   "metadata": {},
   "outputs": [],
   "source": [
    "wbt_path = \"C:/Users/holgerv/WBT\"\n",
    "if wbt_path not in sys.path:\n",
    "    sys.path.insert(1, wbt_path)"
   ]
  },
  {
   "cell_type": "code",
   "execution_count": 3,
   "id": "f13f885f-b4a9-464f-b7b8-2f30b5c09271",
   "metadata": {},
   "outputs": [],
   "source": [
    "from whitebox_tools import WhiteboxTools"
   ]
  },
  {
   "cell_type": "code",
   "execution_count": 4,
   "id": "e4042500-c0be-400a-8985-9ad8f52cbade",
   "metadata": {},
   "outputs": [],
   "source": [
    "whitebox = WhiteboxTools()\n",
    "whitebox.set_whitebox_dir(wbt_path)"
   ]
  },
  {
   "cell_type": "code",
   "execution_count": 5,
   "id": "55730356-f55e-4482-8648-cf83ed9ca023",
   "metadata": {},
   "outputs": [
    {
     "data": {
      "text/plain": [
       "0"
      ]
     },
     "execution_count": 5,
     "metadata": {},
     "output_type": "execute_result"
    }
   ],
   "source": [
    "whitebox.set_verbose_mode(False)"
   ]
  },
  {
   "cell_type": "code",
   "execution_count": 6,
   "id": "c4f4560b-26a7-4078-823a-0017966ec66a",
   "metadata": {},
   "outputs": [
    {
     "data": {
      "text/plain": [
       "0"
      ]
     },
     "execution_count": 6,
     "metadata": {},
     "output_type": "execute_result"
    }
   ],
   "source": [
    "whitebox.set_compress_rasters(True)"
   ]
  },
  {
   "cell_type": "code",
   "execution_count": 7,
   "id": "ae9411d1-7af6-4f06-a79c-428fec3447b0",
   "metadata": {},
   "outputs": [],
   "source": [
    "basepath = \"D:/users/holgerv/Ditches\""
   ]
  },
  {
   "cell_type": "markdown",
   "id": "059447f4-b9f5-4c49-8ef5-7be38c765e3b",
   "metadata": {},
   "source": [
    "# Prepare DEM files for WBT\n",
    "\n",
    "WBT does not work with compressed floating point raster files that have been written with a predictor. Therefore, we have to use GDAL to translate the existing DEM files into versions without the predictor."
   ]
  },
  {
   "cell_type": "code",
   "execution_count": 8,
   "id": "532aad07-86af-4b21-98e3-33e8171d5fd8",
   "metadata": {},
   "outputs": [],
   "source": [
    "# DEM files\n",
    "dem_files = glob.glob(f\"{basepath}/original/DEM/dem_1m_20231203/*_dem_1m.tif\")"
   ]
  },
  {
   "cell_type": "code",
   "execution_count": 9,
   "id": "c84bade2-e411-4e79-805b-726bd391aa1c",
   "metadata": {},
   "outputs": [],
   "source": [
    "# Output directory\n",
    "out_dirpath = f\"{basepath}/working/deep_learning/data/dem_1m_wbt\"\n",
    "if os.path.exists(out_dirpath):\n",
    "    shutil.rmtree(out_dirpath)\n",
    "os.mkdir(out_dirpath)"
   ]
  },
  {
   "cell_type": "code",
   "execution_count": 10,
   "id": "5888112f-b00d-4280-a71a-9302e27dae59",
   "metadata": {},
   "outputs": [
    {
     "name": "stderr",
     "output_type": "stream",
     "text": [
      "  0%|                                                                                                                                                                                                              | 0/2074 [00:00<?, ?it/s]C:\\Users\\holgerv\\micromamba\\envs\\tf\\lib\\site-packages\\osgeo\\gdal.py:287: FutureWarning: Neither gdal.UseExceptions() nor gdal.DontUseExceptions() has been explicitly called. In GDAL 4.0, exceptions will be enabled by default.\n",
      "  warnings.warn(\n",
      "100%|███████████████████████████████████████████████████████████████████████████████████████████████████████████████████████████████████████████████████████████████████████████████████████████████████| 2074/2074 [45:59<00:00,  1.33s/it]"
     ]
    },
    {
     "name": "stdout",
     "output_type": "stream",
     "text": [
      "CPU times: total: 35min 30s\n",
      "Wall time: 45min 59s\n"
     ]
    },
    {
     "name": "stderr",
     "output_type": "stream",
     "text": [
      "\n"
     ]
    }
   ],
   "source": [
    "%%time\n",
    "\n",
    "# Write DEM files without predictor\n",
    "for dem_file in tqdm(dem_files, position=0, leave=True):\n",
    "    out_basename = \"_\".join([os.path.basename(dem_file).split(\".\")[0], \"wbt\"]) + \".tif\"\n",
    "    out_filename = os.path.join(out_dirpath, out_basename)\n",
    "    ds = gdal.Translate(out_filename, dem_file, options=gdal.TranslateOptions(outputType=gdal.GDT_Float32, creationOptions=[\"compress=lzw\"]))\n",
    "    ds = None"
   ]
  },
  {
   "cell_type": "markdown",
   "id": "331b52d5-17cb-4982-9be0-1afb43d84f4b",
   "metadata": {},
   "source": [
    "# Apply HPMF to DEM files"
   ]
  },
  {
   "cell_type": "code",
   "execution_count": 11,
   "id": "c54151a6-3007-4473-a162-184084ec1760",
   "metadata": {},
   "outputs": [],
   "source": [
    "# High-pass median filter from WBT\n",
    "def high_pass_median_filter(in_filename: str, out_filename: str, filterx: int, filtery: int, sig_digits=2):\n",
    "    tool_name = \"HighPassMedianFilter\"\n",
    "    args = [f\"--input={in_filename}\", f\"--output={out_filename}\", f\"--filterx={filterx}\", f\"--filtery={filtery}\", f\"--sig_digits={sig_digits}\"]\n",
    "    whitebox.run_tool(tool_name, args)\n",
    "    return"
   ]
  },
  {
   "cell_type": "code",
   "execution_count": 12,
   "id": "a6415d46-bd7a-4569-b908-910baac3e28c",
   "metadata": {},
   "outputs": [],
   "source": [
    "# Generate HPMF raster from DEM\n",
    "def generate_hpmf_raster(fp_dem: str, out_dirpath: str, filterx: int, filtery: int, sig_digits=2):\n",
    "    out_basename = \"_\".join([os.path.basename(fp_dem).split(\".\")[0], \"hpmf\"]) + \".tif\"\n",
    "    fp_hpmf = os.path.join(out_dirpath, out_basename)\n",
    "    high_pass_median_filter(fp_dem, fp_hpmf, filterx, filtery, sig_digits)\n",
    "    return"
   ]
  },
  {
   "cell_type": "code",
   "execution_count": 13,
   "id": "43def5e6-90ae-4931-aeac-629df3198f1e",
   "metadata": {},
   "outputs": [],
   "source": [
    "# DEM files\n",
    "dem_files = glob.glob(f\"{basepath}/working/deep_learning/data/dem_1m_wbt/*.tif\")"
   ]
  },
  {
   "cell_type": "code",
   "execution_count": 14,
   "id": "d3c78e0a-a562-4577-90a2-1e7bc6817262",
   "metadata": {},
   "outputs": [],
   "source": [
    "# Output directory\n",
    "out_dirpath = f\"{basepath}/working/deep_learning/data/dem_1m_hpmf\"\n",
    "if os.path.exists(out_dirpath):\n",
    "    shutil.rmtree(out_dirpath)\n",
    "os.mkdir(out_dirpath)"
   ]
  },
  {
   "cell_type": "code",
   "execution_count": 15,
   "id": "cf3e1716-6f46-4a57-9801-512d122cf204",
   "metadata": {},
   "outputs": [],
   "source": [
    "# Filter dimensions\n",
    "filterx = 5\n",
    "filtery = 5"
   ]
  },
  {
   "cell_type": "code",
   "execution_count": 16,
   "id": "16f7b926-0a64-4009-b533-2ea24a530821",
   "metadata": {},
   "outputs": [
    {
     "name": "stderr",
     "output_type": "stream",
     "text": [
      "100%|█████████████████████████████████████████████████████████████████████████████████████████████████████████████████████████████████████████████████████████████████████████████████████████████████| 2073/2073 [3:21:30<00:00,  5.83s/it]\n"
     ]
    }
   ],
   "source": [
    "# Generate HPMF rasters\n",
    "for dem_file in tqdm(dem_files, total=len(dem_files), position=0, leave=True):\n",
    "    generate_hpmf_raster(dem_file, out_dirpath, filterx, filtery)"
   ]
  }
 ],
 "metadata": {
  "kernelspec": {
   "display_name": "tf",
   "language": "python",
   "name": "tf"
  },
  "language_info": {
   "codemirror_mode": {
    "name": "ipython",
    "version": 3
   },
   "file_extension": ".py",
   "mimetype": "text/x-python",
   "name": "python",
   "nbconvert_exporter": "python",
   "pygments_lexer": "ipython3",
   "version": "3.9.18"
  }
 },
 "nbformat": 4,
 "nbformat_minor": 5
}
