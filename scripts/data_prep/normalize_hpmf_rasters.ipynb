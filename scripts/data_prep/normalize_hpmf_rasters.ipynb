{
 "cells": [
  {
   "cell_type": "code",
   "execution_count": 1,
   "id": "025906f3-de7e-4a3e-a75f-8c611562125c",
   "metadata": {
    "tags": []
   },
   "outputs": [],
   "source": [
    "import glob\n",
    "import os\n",
    "import shutil\n",
    "\n",
    "import pandas as pd\n",
    "import rasterio\n",
    "import numpy as np\n",
    "from tqdm import tqdm"
   ]
  },
  {
   "cell_type": "code",
   "execution_count": 2,
   "id": "8ef8c8ba-4f73-46c5-8a3e-16c60af93426",
   "metadata": {
    "tags": []
   },
   "outputs": [],
   "source": [
    "basepath = \"D:/users/holgerv/Ditches\""
   ]
  },
  {
   "cell_type": "code",
   "execution_count": 3,
   "id": "4872a5fb-1f0b-4639-b72f-ae84b2ddfaa7",
   "metadata": {
    "tags": []
   },
   "outputs": [],
   "source": [
    "files = glob.glob(f\"{basepath}/working/deep_learning/data/dem_1m_hpmf/*tif\")"
   ]
  },
  {
   "cell_type": "markdown",
   "id": "2c2c35f4-6066-42eb-aad2-9529e376b016",
   "metadata": {},
   "source": [
    "# Use HPMF statistics to assign lower and upper value boundaries"
   ]
  },
  {
   "cell_type": "code",
   "execution_count": 4,
   "id": "fcc28fdd-ad95-4afb-b5c2-755a77917879",
   "metadata": {
    "tags": []
   },
   "outputs": [],
   "source": [
    "# Read HPMF statistics\n",
    "stats_df = pd.read_csv(f\"{basepath}/working/dem_1m_hpmf_stats.csv\", encoding=\"utf-8\")"
   ]
  },
  {
   "cell_type": "code",
   "execution_count": 5,
   "id": "05bfe1af-753a-4d55-9916-24bd5a0671aa",
   "metadata": {
    "tags": []
   },
   "outputs": [
    {
     "data": {
      "text/html": [
       "<div>\n",
       "<style scoped>\n",
       "    .dataframe tbody tr th:only-of-type {\n",
       "        vertical-align: middle;\n",
       "    }\n",
       "\n",
       "    .dataframe tbody tr th {\n",
       "        vertical-align: top;\n",
       "    }\n",
       "\n",
       "    .dataframe thead th {\n",
       "        text-align: right;\n",
       "    }\n",
       "</style>\n",
       "<table border=\"1\" class=\"dataframe\">\n",
       "  <thead>\n",
       "    <tr style=\"text-align: right;\">\n",
       "      <th></th>\n",
       "      <th>file</th>\n",
       "      <th>hpmf_min</th>\n",
       "      <th>hpmf_max</th>\n",
       "      <th>hpmf_mean</th>\n",
       "      <th>hpmf_percentile_1</th>\n",
       "      <th>hpmf_percentile_10</th>\n",
       "      <th>hpmf_percentile_90</th>\n",
       "      <th>hpmf_percentile_99</th>\n",
       "    </tr>\n",
       "  </thead>\n",
       "  <tbody>\n",
       "    <tr>\n",
       "      <th>0</th>\n",
       "      <td>D:/users/holgerv/Ditches/working/deep_learning...</td>\n",
       "      <td>-0.76</td>\n",
       "      <td>0.93</td>\n",
       "      <td>0.000417</td>\n",
       "      <td>-0.390000</td>\n",
       "      <td>-0.24</td>\n",
       "      <td>-0.09</td>\n",
       "      <td>-0.09</td>\n",
       "    </tr>\n",
       "    <tr>\n",
       "      <th>1</th>\n",
       "      <td>D:/users/holgerv/Ditches/working/deep_learning...</td>\n",
       "      <td>-1.90</td>\n",
       "      <td>1.08</td>\n",
       "      <td>0.000589</td>\n",
       "      <td>-0.440000</td>\n",
       "      <td>-0.25</td>\n",
       "      <td>-0.09</td>\n",
       "      <td>-0.09</td>\n",
       "    </tr>\n",
       "    <tr>\n",
       "      <th>2</th>\n",
       "      <td>D:/users/holgerv/Ditches/working/deep_learning...</td>\n",
       "      <td>-1.66</td>\n",
       "      <td>1.62</td>\n",
       "      <td>0.002162</td>\n",
       "      <td>-0.470000</td>\n",
       "      <td>-0.31</td>\n",
       "      <td>-0.10</td>\n",
       "      <td>-0.10</td>\n",
       "    </tr>\n",
       "    <tr>\n",
       "      <th>3</th>\n",
       "      <td>D:/users/holgerv/Ditches/working/deep_learning...</td>\n",
       "      <td>-1.50</td>\n",
       "      <td>1.44</td>\n",
       "      <td>0.004625</td>\n",
       "      <td>-0.410000</td>\n",
       "      <td>-0.25</td>\n",
       "      <td>-0.09</td>\n",
       "      <td>-0.09</td>\n",
       "    </tr>\n",
       "    <tr>\n",
       "      <th>4</th>\n",
       "      <td>D:/users/holgerv/Ditches/working/deep_learning...</td>\n",
       "      <td>-0.96</td>\n",
       "      <td>2.30</td>\n",
       "      <td>0.006886</td>\n",
       "      <td>-0.410000</td>\n",
       "      <td>-0.21</td>\n",
       "      <td>-0.09</td>\n",
       "      <td>-0.09</td>\n",
       "    </tr>\n",
       "    <tr>\n",
       "      <th>...</th>\n",
       "      <td>...</td>\n",
       "      <td>...</td>\n",
       "      <td>...</td>\n",
       "      <td>...</td>\n",
       "      <td>...</td>\n",
       "      <td>...</td>\n",
       "      <td>...</td>\n",
       "      <td>...</td>\n",
       "    </tr>\n",
       "    <tr>\n",
       "      <th>2068</th>\n",
       "      <td>D:/users/holgerv/Ditches/working/deep_learning...</td>\n",
       "      <td>-0.52</td>\n",
       "      <td>0.81</td>\n",
       "      <td>0.008336</td>\n",
       "      <td>-0.310000</td>\n",
       "      <td>-0.18</td>\n",
       "      <td>-0.09</td>\n",
       "      <td>-0.09</td>\n",
       "    </tr>\n",
       "    <tr>\n",
       "      <th>2069</th>\n",
       "      <td>D:/users/holgerv/Ditches/working/deep_learning...</td>\n",
       "      <td>-0.98</td>\n",
       "      <td>1.09</td>\n",
       "      <td>0.003026</td>\n",
       "      <td>-0.330000</td>\n",
       "      <td>-0.15</td>\n",
       "      <td>-0.08</td>\n",
       "      <td>-0.08</td>\n",
       "    </tr>\n",
       "    <tr>\n",
       "      <th>2070</th>\n",
       "      <td>D:/users/holgerv/Ditches/working/deep_learning...</td>\n",
       "      <td>-0.65</td>\n",
       "      <td>0.78</td>\n",
       "      <td>0.002513</td>\n",
       "      <td>-0.290000</td>\n",
       "      <td>-0.16</td>\n",
       "      <td>-0.08</td>\n",
       "      <td>-0.07</td>\n",
       "    </tr>\n",
       "    <tr>\n",
       "      <th>2071</th>\n",
       "      <td>D:/users/holgerv/Ditches/working/deep_learning...</td>\n",
       "      <td>-0.58</td>\n",
       "      <td>0.41</td>\n",
       "      <td>0.006919</td>\n",
       "      <td>-0.340000</td>\n",
       "      <td>-0.18</td>\n",
       "      <td>-0.09</td>\n",
       "      <td>-0.09</td>\n",
       "    </tr>\n",
       "    <tr>\n",
       "      <th>2072</th>\n",
       "      <td>D:/users/holgerv/Ditches/working/deep_learning...</td>\n",
       "      <td>-0.58</td>\n",
       "      <td>0.94</td>\n",
       "      <td>0.009452</td>\n",
       "      <td>-0.372185</td>\n",
       "      <td>-0.21</td>\n",
       "      <td>-0.11</td>\n",
       "      <td>-0.10</td>\n",
       "    </tr>\n",
       "  </tbody>\n",
       "</table>\n",
       "<p>2073 rows × 8 columns</p>\n",
       "</div>"
      ],
      "text/plain": [
       "                                                   file  hpmf_min  hpmf_max  \\\n",
       "0     D:/users/holgerv/Ditches/working/deep_learning...     -0.76      0.93   \n",
       "1     D:/users/holgerv/Ditches/working/deep_learning...     -1.90      1.08   \n",
       "2     D:/users/holgerv/Ditches/working/deep_learning...     -1.66      1.62   \n",
       "3     D:/users/holgerv/Ditches/working/deep_learning...     -1.50      1.44   \n",
       "4     D:/users/holgerv/Ditches/working/deep_learning...     -0.96      2.30   \n",
       "...                                                 ...       ...       ...   \n",
       "2068  D:/users/holgerv/Ditches/working/deep_learning...     -0.52      0.81   \n",
       "2069  D:/users/holgerv/Ditches/working/deep_learning...     -0.98      1.09   \n",
       "2070  D:/users/holgerv/Ditches/working/deep_learning...     -0.65      0.78   \n",
       "2071  D:/users/holgerv/Ditches/working/deep_learning...     -0.58      0.41   \n",
       "2072  D:/users/holgerv/Ditches/working/deep_learning...     -0.58      0.94   \n",
       "\n",
       "      hpmf_mean  hpmf_percentile_1  hpmf_percentile_10  hpmf_percentile_90  \\\n",
       "0      0.000417          -0.390000               -0.24               -0.09   \n",
       "1      0.000589          -0.440000               -0.25               -0.09   \n",
       "2      0.002162          -0.470000               -0.31               -0.10   \n",
       "3      0.004625          -0.410000               -0.25               -0.09   \n",
       "4      0.006886          -0.410000               -0.21               -0.09   \n",
       "...         ...                ...                 ...                 ...   \n",
       "2068   0.008336          -0.310000               -0.18               -0.09   \n",
       "2069   0.003026          -0.330000               -0.15               -0.08   \n",
       "2070   0.002513          -0.290000               -0.16               -0.08   \n",
       "2071   0.006919          -0.340000               -0.18               -0.09   \n",
       "2072   0.009452          -0.372185               -0.21               -0.11   \n",
       "\n",
       "      hpmf_percentile_99  \n",
       "0                  -0.09  \n",
       "1                  -0.09  \n",
       "2                  -0.10  \n",
       "3                  -0.09  \n",
       "4                  -0.09  \n",
       "...                  ...  \n",
       "2068               -0.09  \n",
       "2069               -0.08  \n",
       "2070               -0.07  \n",
       "2071               -0.09  \n",
       "2072               -0.10  \n",
       "\n",
       "[2073 rows x 8 columns]"
      ]
     },
     "execution_count": 5,
     "metadata": {},
     "output_type": "execute_result"
    }
   ],
   "source": [
    "stats_df"
   ]
  },
  {
   "cell_type": "code",
   "execution_count": 6,
   "id": "fa332987-f91c-4323-8fc9-fff3e69b7396",
   "metadata": {
    "tags": []
   },
   "outputs": [
    {
     "data": {
      "text/plain": [
       "count    2073.000000\n",
       "mean       -1.237062\n",
       "std         0.735341\n",
       "min       -18.440000\n",
       "1%         -4.028800\n",
       "5%         -2.280000\n",
       "10%        -1.808000\n",
       "50%        -1.090000\n",
       "max        -0.110000\n",
       "Name: hpmf_min, dtype: float64"
      ]
     },
     "execution_count": 6,
     "metadata": {},
     "output_type": "execute_result"
    }
   ],
   "source": [
    "stats_df[\"hpmf_min\"].describe(percentiles=[0.01, 0.05, 0.1])"
   ]
  },
  {
   "cell_type": "code",
   "execution_count": 7,
   "id": "100a67cc-840f-4b61-9990-c1392f64e427",
   "metadata": {
    "tags": []
   },
   "outputs": [
    {
     "data": {
      "text/plain": [
       "count    2073.000000\n",
       "mean        1.482142\n",
       "std         1.000186\n",
       "min         0.090000\n",
       "50%         1.260000\n",
       "90%         2.108000\n",
       "95%         2.814000\n",
       "99%         5.249200\n",
       "max        14.690000\n",
       "Name: hpmf_max, dtype: float64"
      ]
     },
     "execution_count": 7,
     "metadata": {},
     "output_type": "execute_result"
    }
   ],
   "source": [
    "stats_df[\"hpmf_max\"].describe(percentiles=[0.9, 0.95, 0.99])"
   ]
  },
  {
   "cell_type": "code",
   "execution_count": 8,
   "id": "677ef89a-2bbd-4446-ae44-c957983b28d2",
   "metadata": {
    "tags": []
   },
   "outputs": [],
   "source": [
    "# Get lower HPMF boundary based on first percentile of minimum values\n",
    "lower_boundary = stats_df[\"hpmf_min\"].describe(percentiles=[0.01])[\"1%\"]"
   ]
  },
  {
   "cell_type": "code",
   "execution_count": 9,
   "id": "83464520-500c-40fc-8c97-0e1cb7962d16",
   "metadata": {
    "tags": []
   },
   "outputs": [],
   "source": [
    "# Get upper HPMF boundary based on 99th percentile of maximum values\n",
    "upper_boundary = stats_df[\"hpmf_max\"].describe(percentiles=[0.99])[\"99%\"]"
   ]
  },
  {
   "cell_type": "code",
   "execution_count": 10,
   "id": "cfe4e229-ff33-4f23-b78c-c4afe83c2dfd",
   "metadata": {
    "tags": []
   },
   "outputs": [
    {
     "data": {
      "text/plain": [
       "-4.0288"
      ]
     },
     "metadata": {},
     "output_type": "display_data"
    },
    {
     "data": {
      "text/plain": [
       "5.249200000000028"
      ]
     },
     "metadata": {},
     "output_type": "display_data"
    }
   ],
   "source": [
    "display(lower_boundary)\n",
    "display(upper_boundary)"
   ]
  },
  {
   "cell_type": "markdown",
   "id": "da49639b-2abc-4360-9d1d-be36e9884d2b",
   "metadata": {},
   "source": [
    "# Normalize HPMF rasters"
   ]
  },
  {
   "cell_type": "code",
   "execution_count": 11,
   "id": "e61431b7-ba53-4b52-a850-fce6081156ed",
   "metadata": {
    "tags": []
   },
   "outputs": [],
   "source": [
    "# Normalize HPMF raster\n",
    "def normalize_hpmf_raster(in_fp: str, lower_boundary: float, upper_boundary: float, out_fp: str):\n",
    "    \n",
    "    with rasterio.open(in_fp) as src:\n",
    "        \n",
    "        # Read array\n",
    "        array = src.read(1)\n",
    "        \n",
    "        # Get profile\n",
    "        out_profile = src.profile\n",
    "        \n",
    "        # Replace no data values\n",
    "        out_nodata = np.nan\n",
    "        array = np.where(array == out_profile[\"nodata\"], np.nan, array)\n",
    "        \n",
    "        # Cap outliers below lower boundary\n",
    "        array = np.where(array <= lower_boundary, lower_boundary, array)\n",
    "        \n",
    "        # Cap outliers above upper boundary\n",
    "        array = np.where(array >= upper_boundary, upper_boundary, array)\n",
    "        \n",
    "        # Normalize based on lower and upper boundaries\n",
    "        array_norm = (array - lower_boundary) / (upper_boundary - lower_boundary)\n",
    "        \n",
    "        # Update profile\n",
    "        out_profile[\"nodata\"] = out_nodata\n",
    "        \n",
    "        # Write to raster\n",
    "        with rasterio.open(out_fp, \"w\", **out_profile) as dst:\n",
    "            dst.write(array_norm, 1)\n",
    "            \n",
    "    return"
   ]
  },
  {
   "cell_type": "code",
   "execution_count": 12,
   "id": "979f8907-72ad-4a93-8c29-5bf7f2dd9620",
   "metadata": {
    "tags": []
   },
   "outputs": [],
   "source": [
    "# Output directory\n",
    "out_dirpath = f\"{basepath}/working/deep_learning/data/dem_1m_hpmf_norm\"\n",
    "if os.path.exists(out_dirpath):\n",
    "    shutil.rmtree(out_dirpath)\n",
    "os.mkdir(out_dirpath)"
   ]
  },
  {
   "cell_type": "code",
   "execution_count": 13,
   "id": "62aea916-4e2b-45a4-b29d-1c4abbd4283b",
   "metadata": {
    "tags": []
   },
   "outputs": [
    {
     "name": "stderr",
     "output_type": "stream",
     "text": [
      "100%|█████████████████████████████████████████████████████████████████████████████████████████████████████████████████████████████████████████████████████████████████████████████████████████████████| 2073/2073 [1:08:16<00:00,  1.98s/it]"
     ]
    },
    {
     "name": "stdout",
     "output_type": "stream",
     "text": [
      "CPU times: total: 1h 7min 54s\n",
      "Wall time: 1h 8min 16s\n"
     ]
    },
    {
     "name": "stderr",
     "output_type": "stream",
     "text": [
      "\n"
     ]
    }
   ],
   "source": [
    "%%time\n",
    "\n",
    "# Loop over HPMF files and normalize them\n",
    "for file in tqdm(files, position=0, leave=True):\n",
    "    out_basename = \"_\".join([os.path.basename(file).split(\".\")[0], \"norm\"]) + \".tif\"\n",
    "    out_fp = f\"{out_dirpath}/{out_basename}\"\n",
    "    normalize_hpmf_raster(file, lower_boundary, upper_boundary, out_fp)"
   ]
  }
 ],
 "metadata": {
  "kernelspec": {
   "display_name": "tf",
   "language": "python",
   "name": "tf"
  },
  "language_info": {
   "codemirror_mode": {
    "name": "ipython",
    "version": 3
   },
   "file_extension": ".py",
   "mimetype": "text/x-python",
   "name": "python",
   "nbconvert_exporter": "python",
   "pygments_lexer": "ipython3",
   "version": "3.9.18"
  }
 },
 "nbformat": 4,
 "nbformat_minor": 5
}
