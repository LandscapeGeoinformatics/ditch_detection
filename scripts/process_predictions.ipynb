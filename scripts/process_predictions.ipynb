{
 "cells": [
  {
   "cell_type": "code",
   "execution_count": 1,
   "id": "8ab47f59-044e-4a72-ba4a-32ae04fb7915",
   "metadata": {
    "tags": []
   },
   "outputs": [],
   "source": [
    "import os\n",
    "import pickle\n",
    "import shutil\n",
    "\n",
    "from skimage.transform import resize\n",
    "import rasterio\n",
    "import numpy as np"
   ]
  },
  {
   "cell_type": "code",
   "execution_count": 2,
   "id": "91dd0792-c644-4396-a68a-ff27247cb898",
   "metadata": {
    "tags": []
   },
   "outputs": [
    {
     "data": {
      "text/plain": [
       "'\\\\\\\\export.hpc.ut.ee\\\\gis\\\\Ditches\\\\working\\\\deep_learning\\\\data\\\\prediction'"
      ]
     },
     "execution_count": 2,
     "metadata": {},
     "output_type": "execute_result"
    }
   ],
   "source": [
    "working_dir = r'\\\\export.hpc.ut.ee\\gis\\Ditches\\working\\deep_learning\\data\\prediction'\n",
    "os.chdir(working_dir)\n",
    "os.getcwd()"
   ]
  },
  {
   "cell_type": "code",
   "execution_count": 3,
   "id": "5c75795e-de37-43a1-a2bc-4e943593e687",
   "metadata": {
    "tags": []
   },
   "outputs": [
    {
     "name": "stdout",
     "output_type": "stream",
     "text": [
      "CPU times: total: 234 ms\n",
      "Wall time: 20.2 s\n"
     ]
    }
   ],
   "source": [
    "%%time\n",
    "\n",
    "experiment = 'prediction_finetuned_aug_estonia_relu_ks3x3_lr0.0001_250ep_bs4_from_train_aug_sweden_test_unaug_sweden'\n",
    "experiment_dir = fr'\\\\export.hpc.ut.ee\\gis\\Ditches\\working\\pytorch_unet\\experiments\\{experiment}'\n",
    "with open(f'{experiment_dir}/result/prediction_TestSet_20240617_185635.pkl', 'rb') as file:\n",
    "    predictions = pickle.load(file)"
   ]
  },
  {
   "cell_type": "markdown",
   "id": "890d0f4b-3b9e-4a8b-bcca-d67ecb821e65",
   "metadata": {},
   "source": [
    "# Write predicted probabilities to GeoTIFF"
   ]
  },
  {
   "cell_type": "code",
   "execution_count": 4,
   "id": "af3625f5-fc90-42c9-88a6-20d9528b8237",
   "metadata": {
    "tags": []
   },
   "outputs": [],
   "source": [
    "# Generate output directory\n",
    "out_dir = f'{working_dir}/predicted_probs'\n",
    "if os.path.exists(out_dir):\n",
    "    shutil.rmtree(out_dir)\n",
    "os.makedirs(out_dir)"
   ]
  },
  {
   "cell_type": "code",
   "execution_count": 5,
   "id": "a8b96ac4-be70-4d2e-a6c4-bf4d5a76384e",
   "metadata": {
    "tags": []
   },
   "outputs": [
    {
     "name": "stdout",
     "output_type": "stream",
     "text": [
      "CPU times: total: 39.7 s\n",
      "Wall time: 2min 37s\n"
     ]
    }
   ],
   "source": [
    "%%time\n",
    "\n",
    "out_img_size = 500\n",
    "for prediction in predictions:\n",
    "    for file, predicted_probs in zip(prediction['file'], prediction['data']):\n",
    "        map_sheet = file.split('_')[0]\n",
    "        \n",
    "        # Resize image\n",
    "        predicted_probs = resize(predicted_probs, (1, out_img_size, out_img_size), mode=\"constant\", preserve_range=True)\n",
    "        \n",
    "        # Read HPMF\n",
    "        fp_hpmf = f'{working_dir}/hpmf/{file}'\n",
    "        with rasterio.open(fp_hpmf) as src:\n",
    "            \n",
    "            # Output profile\n",
    "            out_profile = src.profile.copy()\n",
    "            \n",
    "            # Write output to GeoTIFF\n",
    "            out_dir = f'{working_dir}/predicted_probs/{map_sheet}'\n",
    "            if not os.path.exists(out_dir):\n",
    "                os.makedirs(out_dir)\n",
    "            fp_predicted_probs = f'{out_dir}/{file}'\n",
    "            with rasterio.open(fp_predicted_probs, 'w', **out_profile) as dst:\n",
    "                dst.write(predicted_probs)"
   ]
  },
  {
   "cell_type": "markdown",
   "id": "daa93761-e601-45fb-9428-fa602563ef2c",
   "metadata": {},
   "source": [
    "# Write predicted labels to GeoTIFF"
   ]
  },
  {
   "cell_type": "code",
   "execution_count": 6,
   "id": "902c8c94-3758-4589-b8fc-f681ec93ebe4",
   "metadata": {
    "tags": []
   },
   "outputs": [],
   "source": [
    "# Extract labels based on probability threshold\n",
    "def extract_labels(fp_predicted_probs, fp_predicted_labels, prob_threshold=0.5):\n",
    "    with rasterio.open(fp_predicted_probs) as src:\n",
    "        \n",
    "        # Read predicted probabilities\n",
    "        predicted_probs = src.read(1)\n",
    "        \n",
    "        # Extract predicted labels\n",
    "        predicted_labels = np.where(predicted_probs > prob_threshold, 1, 0)\n",
    "        \n",
    "        # Output profile\n",
    "        out_profile = src.profile.copy()\n",
    "        out_profile['dtype'] = 'int32'\n",
    "        out_profile['nodata'] = -9999\n",
    "        \n",
    "        # Write output to GeoTIFF\n",
    "        with rasterio.open(fp_predicted_labels, 'w', **out_profile) as dst:\n",
    "            dst.write(predicted_labels, 1)\n",
    "            \n",
    "    return"
   ]
  },
  {
   "cell_type": "code",
   "execution_count": 7,
   "id": "4123a9ee-cd00-45ae-b0c3-9dde872d20d0",
   "metadata": {
    "tags": []
   },
   "outputs": [],
   "source": [
    "prob_thresholds = [0.5, 0.1]\n",
    "for prob_threshold in prob_thresholds:\n",
    "    out_dir = f'{working_dir}/predicted_labels_{prob_threshold}'\n",
    "    if os.path.exists(out_dir):\n",
    "        shutil.rmtree(out_dir)"
   ]
  },
  {
   "cell_type": "code",
   "execution_count": 8,
   "id": "6dbb54a1-359d-43a1-a2bb-f435577d7621",
   "metadata": {
    "tags": []
   },
   "outputs": [
    {
     "name": "stdout",
     "output_type": "stream",
     "text": [
      "CPU times: total: 46.6 s\n",
      "Wall time: 4min 8s\n"
     ]
    }
   ],
   "source": [
    "%%time\n",
    "\n",
    "prob_thresholds = [0.5, 0.1]\n",
    "for prob_threshold in prob_thresholds:\n",
    "    for map_sheet in os.listdir(f'{working_dir}/predicted_probs'):\n",
    "        for file in os.listdir(f'{working_dir}/predicted_probs/{map_sheet}'):\n",
    "            \n",
    "            # Extract predicted labels\n",
    "            fp_predicted_probs = f'{working_dir}/predicted_probs/{map_sheet}/{file}'\n",
    "            out_dir = f'{working_dir}/predicted_labels_{prob_threshold}/{map_sheet}'\n",
    "            if not os.path.exists(out_dir):\n",
    "                os.makedirs(out_dir)\n",
    "            fp_predicted_labels = f'{out_dir}/{file}'\n",
    "            extract_labels(fp_predicted_probs, fp_predicted_labels, prob_threshold)"
   ]
  }
 ],
 "metadata": {
  "kernelspec": {
   "display_name": "geopython2024",
   "language": "python",
   "name": "geopython2024"
  },
  "language_info": {
   "codemirror_mode": {
    "name": "ipython",
    "version": 3
   },
   "file_extension": ".py",
   "mimetype": "text/x-python",
   "name": "python",
   "nbconvert_exporter": "python",
   "pygments_lexer": "ipython3",
   "version": "3.10.14"
  }
 },
 "nbformat": 4,
 "nbformat_minor": 5
}
